{
 "cells": [
  {
   "cell_type": "code",
   "execution_count": 1,
   "metadata": {},
   "outputs": [
    {
     "name": "stderr",
     "output_type": "stream",
     "text": [
      "Using TensorFlow backend.\n"
     ]
    }
   ],
   "source": [
    "from keras import backend as K\n",
    "from keras.layers import Input, Dense\n",
    "from keras.models import Model\n",
    "from keras.layers import Dense, Dropout, Reshape, Permute\n",
    "from keras.layers.convolutional import Convolution2D\n",
    "from keras.layers.convolutional import MaxPooling2D, ZeroPadding2D\n",
    "from keras.layers.normalization import BatchNormalization\n",
    "from keras.layers.advanced_activations import ReLU\n",
    "from keras.layers.recurrent import GRU\n",
    "from keras.utils.data_utils import get_file\n",
    "from keras.layers import Activation, Dense, Dropout, Conv2D, Flatten, MaxPooling2D\n",
    "import librosa\n",
    "import time\n",
    "import numpy as np\n",
    "np.set_printoptions(threshold=np.nan)\n",
    "import tensorflow as tf\n",
    "\n",
    "import matplotlib.pyplot as plt\n",
    "%matplotlib inline\n",
    "plt.style.use('ggplot')"
   ]
  },
  {
   "cell_type": "code",
   "execution_count": 3,
   "metadata": {},
   "outputs": [
    {
     "data": {
      "text/plain": [
       "((1995, 3, 44), (1995, 2))"
      ]
     },
     "execution_count": 3,
     "metadata": {},
     "output_type": "execute_result"
    }
   ],
   "source": [
    "X_data1 = np.load('mfcc_select1_rep_bkgn.npy')\n",
    "X_data2 = np.load('mfcc_select2_rep_bkgn.npy')\n",
    "y_data1 = np.load('label_select1_rep_bkgn.npy')\n",
    "y_data2 = np.load('label_select2_rep_bkgn.npy')\n",
    "\n",
    "X_data = np.concatenate((X_data1,X_data2),axis=0)\n",
    "y_data = np.concatenate((y_data1,y_data2),axis=0)\n",
    "\n",
    "X_data.shape, y_data.shape"
   ]
  },
  {
   "cell_type": "code",
   "execution_count": 8,
   "metadata": {},
   "outputs": [
    {
     "data": {
      "text/plain": [
       "((1118, 13, 44), (1118, 2))"
      ]
     },
     "execution_count": 8,
     "metadata": {},
     "output_type": "execute_result"
    }
   ],
   "source": [
    "X_data = np.load('mfcc_select2_bkgn_rep.npy')\n",
    "y_data = np.load('label_select2_bkgn_rep.npy')\n",
    "\n",
    "X_data.shape, y_data.shape"
   ]
  },
  {
   "cell_type": "code",
   "execution_count": 23,
   "metadata": {},
   "outputs": [
    {
     "name": "stdout",
     "output_type": "stream",
     "text": [
      "[-349.38297733 -339.46299205 -335.9631354  -332.85456749 -335.33701397\n",
      " -338.99786663 -335.77088785 -333.44439033 -329.44559082 -322.16420586\n",
      " -319.92502913 -316.64271557 -311.43076845 -308.73829721 -309.3209236\n",
      " -307.67348592 -303.83712975 -305.39611913 -310.7827827  -312.72902822\n",
      " -320.60781548 -332.39978589 -345.72288923 -354.45209134 -345.82691536\n",
      " -222.58115458 -144.63731484 -104.18134994  -94.19182443 -125.13382514\n",
      " -176.27034638 -187.67775668 -142.13757249 -106.01491192 -103.24835776\n",
      " -105.74849192 -113.21542036 -124.97840797 -130.46651078 -136.70618579\n",
      " -157.23289474 -202.31283386 -221.40212359 -224.78087842]\n",
      "after\n",
      "[-0.19771582 -0.1921021  -0.19012153 -0.18836239 -0.18976721 -0.19183888\n",
      " -0.19001274 -0.18869617 -0.18643325 -0.18231272 -0.18104557 -0.17918811\n",
      " -0.17623866 -0.174715   -0.1750447  -0.17411242 -0.17194142 -0.17282366\n",
      " -0.17587197 -0.17697335 -0.18143196 -0.18810503 -0.19564457 -0.20058443\n",
      " -0.19570344 -0.12595867 -0.08185025 -0.05895622 -0.05330315 -0.07081323\n",
      " -0.09975138 -0.10620684 -0.08043565 -0.05999384 -0.05842824 -0.05984307\n",
      " -0.0640686  -0.07072528 -0.073831   -0.07736203 -0.08897809 -0.11448883\n",
      " -0.12529146 -0.12720349]\n"
     ]
    }
   ],
   "source": [
    "from sklearn.preprocessing import StandardScaler\n",
    "print(X_data[0][0])\n",
    "X_data = tf.keras.utils.normalize(X_data, axis=-1, order=2)\n",
    "#X_data = StandardScaler().fit_transform(X_data)\n",
    "print(\"after\")\n",
    "print(X_data[0][0])"
   ]
  },
  {
   "cell_type": "code",
   "execution_count": 4,
   "metadata": {},
   "outputs": [
    {
     "name": "stdout",
     "output_type": "stream",
     "text": [
      "(1995, 3, 44)\n",
      "(1995, 3, 44, 1)\n",
      "ns = 1542\n",
      "s = 453\n"
     ]
    }
   ],
   "source": [
    "print(X_data.shape)\n",
    "X_data = np.array(X_data.reshape(X_data.shape[0], 3, 44, 1))\n",
    "print(X_data.shape)\n",
    "y=[]\n",
    "\n",
    "ns=s=0\n",
    "for i in range(len(y_data)):\n",
    "    if y_data[i][0]==1:\n",
    "        y.append('0')\n",
    "        ns+=1\n",
    "    else:\n",
    "        y.append('1')\n",
    "        s+=1\n",
    "\n",
    "print(\"ns = \"+str(ns))\n",
    "print(\"s = \"+str(s))\n",
    "y = np.array(y)"
   ]
  },
  {
   "cell_type": "code",
   "execution_count": 164,
   "metadata": {},
   "outputs": [],
   "source": [
    "from sklearn.model_selection import train_test_split\n",
    "#X_sub, X_test, y_sub, y_test = train_test_split(X_data, y_data, test_size=0.2)\n",
    "X_train, X_test, y_train, y_test = train_test_split(X_data, y, test_size=0.02)"
   ]
  },
  {
   "cell_type": "code",
   "execution_count": 165,
   "metadata": {},
   "outputs": [
    {
     "data": {
      "text/plain": [
       "(1955, 40, 1955, 40)"
      ]
     },
     "execution_count": 165,
     "metadata": {},
     "output_type": "execute_result"
    }
   ],
   "source": [
    "len(X_train), len(X_test), len(y_train), len(y_test)"
   ]
  },
  {
   "cell_type": "code",
   "execution_count": 166,
   "metadata": {},
   "outputs": [
    {
     "data": {
      "text/plain": [
       "((1955, 3, 44, 1), (40, 3, 44, 1), (1955,), (40,))"
      ]
     },
     "execution_count": 166,
     "metadata": {},
     "output_type": "execute_result"
    }
   ],
   "source": [
    "X_train.shape, X_test.shape, y_train.shape, y_test.shape"
   ]
  },
  {
   "cell_type": "code",
   "execution_count": 167,
   "metadata": {},
   "outputs": [
    {
     "name": "stdout",
     "output_type": "stream",
     "text": [
      "_________________________________________________________________\n",
      "Layer (type)                 Output Shape              Param #   \n",
      "=================================================================\n",
      "conv2d_120 (Conv2D)          (None, 3, 37, 32)         288       \n",
      "_________________________________________________________________\n",
      "activation_151 (Activation)  (None, 3, 37, 32)         0         \n",
      "_________________________________________________________________\n",
      "conv2d_121 (Conv2D)          (None, 3, 30, 32)         8224      \n",
      "_________________________________________________________________\n",
      "activation_152 (Activation)  (None, 3, 30, 32)         0         \n",
      "_________________________________________________________________\n",
      "conv2d_122 (Conv2D)          (None, 3, 23, 48)         12336     \n",
      "_________________________________________________________________\n",
      "activation_153 (Activation)  (None, 3, 23, 48)         0         \n",
      "_________________________________________________________________\n",
      "conv2d_123 (Conv2D)          (None, 3, 16, 48)         18480     \n",
      "_________________________________________________________________\n",
      "activation_154 (Activation)  (None, 3, 16, 48)         0         \n",
      "_________________________________________________________________\n",
      "conv2d_124 (Conv2D)          (None, 3, 9, 64)          24640     \n",
      "_________________________________________________________________\n",
      "activation_155 (Activation)  (None, 3, 9, 64)          0         \n",
      "_________________________________________________________________\n",
      "reshape_36 (Reshape)         (None, 27, 64)            0         \n",
      "_________________________________________________________________\n",
      "gru1 (GRU)                   (None, 27, 32)            9312      \n",
      "_________________________________________________________________\n",
      "gru2 (GRU)                   (None, 32)                6240      \n",
      "_________________________________________________________________\n",
      "dropout_32 (Dropout)         (None, 32)                0         \n",
      "_________________________________________________________________\n",
      "dense_32 (Dense)             (None, 1)                 33        \n",
      "_________________________________________________________________\n",
      "activation_156 (Activation)  (None, 1)                 0         \n",
      "=================================================================\n",
      "Total params: 79,553\n",
      "Trainable params: 79,553\n",
      "Non-trainable params: 0\n",
      "_________________________________________________________________\n",
      "None\n"
     ]
    }
   ],
   "source": [
    "from keras.layers import Activation, Dense, Dropout, Conv2D, Flatten, MaxPooling2D\n",
    "from keras.models import Sequential\n",
    "\n",
    "model = Sequential()\n",
    "\n",
    "# Model Input\n",
    "input_shape=(3, 44, 1)\n",
    "\n",
    "# Using CNN to build model\n",
    "# W=(W−F+2P)/S+1\n",
    "# 16 depths (3-2)/1+1 x (44-8)/1+1 = 3 x 37 x 32\n",
    "model.add(Conv2D(32, (1, 8), strides=(1, 1), input_shape=input_shape))\n",
    "#model.add(BatchNormalization(axis=-1))\n",
    "model.add(Activation('relu'))\n",
    "\n",
    "# 3 x 30 x 32\n",
    "model.add(Conv2D(32, (1, 8), strides=(1, 1), padding=\"valid\"))\n",
    "#model.add(BatchNormalization(axis=-1))\n",
    "model.add(Activation('relu'))\n",
    "\n",
    "# 3 x 23 x 32\n",
    "model.add(Conv2D(48, (1, 8), strides=(1, 1), padding=\"valid\"))\n",
    "#model.add(BatchNormalization(axis=-1))\n",
    "model.add(Activation('relu'))\n",
    "\n",
    "# 3 x 16 x 32\n",
    "model.add(Conv2D(48, (1, 8), strides=(1, 1), padding=\"valid\"))\n",
    "#model.add(BatchNormalization(axis=-1))\n",
    "model.add(Activation('relu'))\n",
    "\n",
    "# 3 x 9 x 32\n",
    "model.add(Conv2D(64, (1, 8), strides=(1, 1), padding=\"valid\"))\n",
    "#model.add(BatchNormalization(axis=-1))\n",
    "model.add(Activation('relu'))\n",
    "\n",
    "#print(model.summary())\n",
    "\n",
    "model.add(Reshape((27, 64)))\n",
    "\n",
    "# GRU block 1, 2, output\n",
    "model.add(GRU(32, return_sequences=True, name='gru1'))\n",
    "model.add(GRU(32, return_sequences=False, name='gru2'))\n",
    "#model.add(GRU(32, return_sequences=False, name='gru3'))\n",
    "model.add(Dropout(0.3))\n",
    "\n",
    "# Output\n",
    "model.add(Dense(1))\n",
    "model.add(Activation('sigmoid'))\n",
    "\n",
    "print(model.summary())"
   ]
  },
  {
   "cell_type": "code",
   "execution_count": 168,
   "metadata": {
    "scrolled": false
   },
   "outputs": [
    {
     "name": "stdout",
     "output_type": "stream",
     "text": [
      "Train on 1955 samples, validate on 40 samples\n",
      "Epoch 1/64\n",
      "1955/1955 [==============================] - 7s 3ms/step - loss: 0.5475 - acc: 0.7570 - val_loss: 0.4979 - val_acc: 0.7750\n",
      "Epoch 2/64\n",
      "1955/1955 [==============================] - 2s 825us/step - loss: 0.5133 - acc: 0.7698 - val_loss: 0.4769 - val_acc: 0.7750\n",
      "Epoch 3/64\n",
      "1955/1955 [==============================] - 2s 914us/step - loss: 0.4889 - acc: 0.7739 - val_loss: 0.4451 - val_acc: 0.7750\n",
      "Epoch 4/64\n",
      "1955/1955 [==============================] - 2s 1ms/step - loss: 0.4642 - acc: 0.7770 - val_loss: 0.3904 - val_acc: 0.8250\n",
      "Epoch 5/64\n",
      "1955/1955 [==============================] - 2s 1ms/step - loss: 0.4594 - acc: 0.7795 - val_loss: 0.4026 - val_acc: 0.8500\n",
      "Epoch 6/64\n",
      "1955/1955 [==============================] - 2s 998us/step - loss: 0.4476 - acc: 0.7898 - val_loss: 0.4063 - val_acc: 0.7750\n",
      "Epoch 7/64\n",
      "1955/1955 [==============================] - 2s 894us/step - loss: 0.4572 - acc: 0.7836 - val_loss: 0.4077 - val_acc: 0.8000\n",
      "Epoch 8/64\n",
      "1955/1955 [==============================] - 2s 931us/step - loss: 0.4285 - acc: 0.8010 - val_loss: 0.3694 - val_acc: 0.8250\n",
      "Epoch 9/64\n",
      "1955/1955 [==============================] - 2s 894us/step - loss: 0.4206 - acc: 0.8041 - val_loss: 0.4326 - val_acc: 0.7750\n",
      "Epoch 10/64\n",
      "1955/1955 [==============================] - 2s 887us/step - loss: 0.4247 - acc: 0.8072 - val_loss: 0.3695 - val_acc: 0.8250\n",
      "Epoch 11/64\n",
      "1955/1955 [==============================] - 2s 876us/step - loss: 0.4073 - acc: 0.8205 - val_loss: 0.3926 - val_acc: 0.8000\n",
      "Epoch 12/64\n",
      "1955/1955 [==============================] - 2s 896us/step - loss: 0.3951 - acc: 0.8194 - val_loss: 0.3432 - val_acc: 0.8500\n",
      "Epoch 13/64\n",
      "1955/1955 [==============================] - 2s 940us/step - loss: 0.4056 - acc: 0.8113 - val_loss: 0.4261 - val_acc: 0.7250\n",
      "Epoch 14/64\n",
      "1955/1955 [==============================] - 2s 983us/step - loss: 0.3967 - acc: 0.8220 - val_loss: 0.4058 - val_acc: 0.8000\n",
      "Epoch 15/64\n",
      "1955/1955 [==============================] - 2s 949us/step - loss: 0.3905 - acc: 0.8230 - val_loss: 0.4154 - val_acc: 0.7500\n",
      "Epoch 16/64\n",
      "1955/1955 [==============================] - 2s 1ms/step - loss: 0.3723 - acc: 0.8343 - val_loss: 0.3583 - val_acc: 0.8500\n",
      "Epoch 17/64\n",
      "1955/1955 [==============================] - 2s 1ms/step - loss: 0.3772 - acc: 0.8414 - val_loss: 0.4222 - val_acc: 0.7750\n",
      "Epoch 18/64\n",
      "1955/1955 [==============================] - 2s 1ms/step - loss: 0.3846 - acc: 0.8246 - val_loss: 0.4457 - val_acc: 0.7750\n",
      "Epoch 19/64\n",
      "1955/1955 [==============================] - 2s 1ms/step - loss: 0.3733 - acc: 0.8205 - val_loss: 0.3753 - val_acc: 0.7750\n",
      "Epoch 20/64\n",
      "1955/1955 [==============================] - 2s 992us/step - loss: 0.3502 - acc: 0.8440 - val_loss: 0.3737 - val_acc: 0.8250\n",
      "Epoch 21/64\n",
      "1955/1955 [==============================] - 2s 1ms/step - loss: 0.3415 - acc: 0.8522 - val_loss: 0.4640 - val_acc: 0.7750\n",
      "Epoch 22/64\n",
      "1955/1955 [==============================] - 2s 1ms/step - loss: 0.3314 - acc: 0.8558 - val_loss: 0.4330 - val_acc: 0.8250\n",
      "Epoch 23/64\n",
      "1955/1955 [==============================] - 2s 1ms/step - loss: 0.3050 - acc: 0.8675 - val_loss: 0.4850 - val_acc: 0.7500\n",
      "Epoch 24/64\n",
      "1955/1955 [==============================] - 2s 1ms/step - loss: 0.3251 - acc: 0.8639 - val_loss: 0.5209 - val_acc: 0.8000\n",
      "Epoch 25/64\n",
      "1955/1955 [==============================] - 2s 1ms/step - loss: 0.2986 - acc: 0.8757 - val_loss: 0.4843 - val_acc: 0.7750\n",
      "Epoch 26/64\n",
      "1955/1955 [==============================] - 2s 1ms/step - loss: 0.2954 - acc: 0.8711 - val_loss: 0.4314 - val_acc: 0.8250\n",
      "Epoch 27/64\n",
      "1955/1955 [==============================] - 2s 1ms/step - loss: 0.2682 - acc: 0.8875 - val_loss: 0.5231 - val_acc: 0.7250\n",
      "Epoch 28/64\n",
      "1955/1955 [==============================] - 2s 1ms/step - loss: 0.2596 - acc: 0.8957 - val_loss: 0.6190 - val_acc: 0.7750\n",
      "Epoch 29/64\n",
      "1955/1955 [==============================] - 2s 1ms/step - loss: 0.2494 - acc: 0.9003 - val_loss: 0.6015 - val_acc: 0.7750\n",
      "Epoch 30/64\n",
      "1955/1955 [==============================] - 2s 960us/step - loss: 0.2267 - acc: 0.9136 - val_loss: 0.5536 - val_acc: 0.7750\n",
      "Epoch 31/64\n",
      "1955/1955 [==============================] - 3s 1ms/step - loss: 0.2275 - acc: 0.9130 - val_loss: 0.7079 - val_acc: 0.7750\n",
      "Epoch 32/64\n",
      "1955/1955 [==============================] - 2s 900us/step - loss: 0.1914 - acc: 0.9304 - val_loss: 0.6141 - val_acc: 0.7500\n",
      "Epoch 33/64\n",
      "1955/1955 [==============================] - 2s 920us/step - loss: 0.2027 - acc: 0.9274 - val_loss: 0.6361 - val_acc: 0.7250\n",
      "Epoch 34/64\n",
      "1955/1955 [==============================] - 2s 945us/step - loss: 0.1712 - acc: 0.9391 - val_loss: 0.7600 - val_acc: 0.6750\n",
      "Epoch 35/64\n",
      "1955/1955 [==============================] - 2s 954us/step - loss: 0.1901 - acc: 0.9320 - val_loss: 0.8584 - val_acc: 0.6750\n",
      "Epoch 36/64\n",
      "1955/1955 [==============================] - 2s 938us/step - loss: 0.1590 - acc: 0.9427 - val_loss: 0.6715 - val_acc: 0.7000\n",
      "Epoch 37/64\n",
      "1920/1955 [============================>.] - ETA: 0s - loss: 0.1251 - acc: 0.9599"
     ]
    },
    {
     "ename": "KeyboardInterrupt",
     "evalue": "",
     "output_type": "error",
     "traceback": [
      "\u001b[0;31m---------------------------------------------------------------------------\u001b[0m",
      "\u001b[0;31mKeyboardInterrupt\u001b[0m                         Traceback (most recent call last)",
      "\u001b[0;32m<ipython-input-168-fa63a7dbcc89>\u001b[0m in \u001b[0;36m<module>\u001b[0;34m()\u001b[0m\n\u001b[1;32m      9\u001b[0m     \u001b[0mepochs\u001b[0m\u001b[0;34m=\u001b[0m\u001b[0;36m64\u001b[0m\u001b[0;34m,\u001b[0m\u001b[0;34m\u001b[0m\u001b[0;34m\u001b[0m\u001b[0m\n\u001b[1;32m     10\u001b[0m     \u001b[0mbatch_size\u001b[0m\u001b[0;34m=\u001b[0m\u001b[0;36m64\u001b[0m\u001b[0;34m,\u001b[0m\u001b[0;34m\u001b[0m\u001b[0;34m\u001b[0m\u001b[0m\n\u001b[0;32m---> 11\u001b[0;31m     \u001b[0mvalidation_data\u001b[0m\u001b[0;34m=\u001b[0m \u001b[0;34m(\u001b[0m\u001b[0mX_test\u001b[0m\u001b[0;34m,\u001b[0m \u001b[0my_test\u001b[0m\u001b[0;34m)\u001b[0m\u001b[0;34m,\u001b[0m\u001b[0;34m\u001b[0m\u001b[0;34m\u001b[0m\u001b[0m\n\u001b[0m\u001b[1;32m     12\u001b[0m )\n\u001b[1;32m     13\u001b[0m \u001b[0;34m\u001b[0m\u001b[0m\n",
      "\u001b[0;32m~/anaconda3/envs/bp_env/lib/python3.6/site-packages/keras/engine/training.py\u001b[0m in \u001b[0;36mfit\u001b[0;34m(self, x, y, batch_size, epochs, verbose, callbacks, validation_split, validation_data, shuffle, class_weight, sample_weight, initial_epoch, steps_per_epoch, validation_steps, **kwargs)\u001b[0m\n\u001b[1;32m   1037\u001b[0m                                         \u001b[0minitial_epoch\u001b[0m\u001b[0;34m=\u001b[0m\u001b[0minitial_epoch\u001b[0m\u001b[0;34m,\u001b[0m\u001b[0;34m\u001b[0m\u001b[0;34m\u001b[0m\u001b[0m\n\u001b[1;32m   1038\u001b[0m                                         \u001b[0msteps_per_epoch\u001b[0m\u001b[0;34m=\u001b[0m\u001b[0msteps_per_epoch\u001b[0m\u001b[0;34m,\u001b[0m\u001b[0;34m\u001b[0m\u001b[0;34m\u001b[0m\u001b[0m\n\u001b[0;32m-> 1039\u001b[0;31m                                         validation_steps=validation_steps)\n\u001b[0m\u001b[1;32m   1040\u001b[0m \u001b[0;34m\u001b[0m\u001b[0m\n\u001b[1;32m   1041\u001b[0m     def evaluate(self, x=None, y=None,\n",
      "\u001b[0;32m~/anaconda3/envs/bp_env/lib/python3.6/site-packages/keras/engine/training_arrays.py\u001b[0m in \u001b[0;36mfit_loop\u001b[0;34m(model, f, ins, out_labels, batch_size, epochs, verbose, callbacks, val_f, val_ins, shuffle, callback_metrics, initial_epoch, steps_per_epoch, validation_steps)\u001b[0m\n\u001b[1;32m    197\u001b[0m                     \u001b[0mins_batch\u001b[0m\u001b[0;34m[\u001b[0m\u001b[0mi\u001b[0m\u001b[0;34m]\u001b[0m \u001b[0;34m=\u001b[0m \u001b[0mins_batch\u001b[0m\u001b[0;34m[\u001b[0m\u001b[0mi\u001b[0m\u001b[0;34m]\u001b[0m\u001b[0;34m.\u001b[0m\u001b[0mtoarray\u001b[0m\u001b[0;34m(\u001b[0m\u001b[0;34m)\u001b[0m\u001b[0;34m\u001b[0m\u001b[0;34m\u001b[0m\u001b[0m\n\u001b[1;32m    198\u001b[0m \u001b[0;34m\u001b[0m\u001b[0m\n\u001b[0;32m--> 199\u001b[0;31m                 \u001b[0mouts\u001b[0m \u001b[0;34m=\u001b[0m \u001b[0mf\u001b[0m\u001b[0;34m(\u001b[0m\u001b[0mins_batch\u001b[0m\u001b[0;34m)\u001b[0m\u001b[0;34m\u001b[0m\u001b[0;34m\u001b[0m\u001b[0m\n\u001b[0m\u001b[1;32m    200\u001b[0m                 \u001b[0mouts\u001b[0m \u001b[0;34m=\u001b[0m \u001b[0mto_list\u001b[0m\u001b[0;34m(\u001b[0m\u001b[0mouts\u001b[0m\u001b[0;34m)\u001b[0m\u001b[0;34m\u001b[0m\u001b[0;34m\u001b[0m\u001b[0m\n\u001b[1;32m    201\u001b[0m                 \u001b[0;32mfor\u001b[0m \u001b[0ml\u001b[0m\u001b[0;34m,\u001b[0m \u001b[0mo\u001b[0m \u001b[0;32min\u001b[0m \u001b[0mzip\u001b[0m\u001b[0;34m(\u001b[0m\u001b[0mout_labels\u001b[0m\u001b[0;34m,\u001b[0m \u001b[0mouts\u001b[0m\u001b[0;34m)\u001b[0m\u001b[0;34m:\u001b[0m\u001b[0;34m\u001b[0m\u001b[0;34m\u001b[0m\u001b[0m\n",
      "\u001b[0;32m~/anaconda3/envs/bp_env/lib/python3.6/site-packages/keras/backend/tensorflow_backend.py\u001b[0m in \u001b[0;36m__call__\u001b[0;34m(self, inputs)\u001b[0m\n\u001b[1;32m   2713\u001b[0m                 \u001b[0;32mreturn\u001b[0m \u001b[0mself\u001b[0m\u001b[0;34m.\u001b[0m\u001b[0m_legacy_call\u001b[0m\u001b[0;34m(\u001b[0m\u001b[0minputs\u001b[0m\u001b[0;34m)\u001b[0m\u001b[0;34m\u001b[0m\u001b[0;34m\u001b[0m\u001b[0m\n\u001b[1;32m   2714\u001b[0m \u001b[0;34m\u001b[0m\u001b[0m\n\u001b[0;32m-> 2715\u001b[0;31m             \u001b[0;32mreturn\u001b[0m \u001b[0mself\u001b[0m\u001b[0;34m.\u001b[0m\u001b[0m_call\u001b[0m\u001b[0;34m(\u001b[0m\u001b[0minputs\u001b[0m\u001b[0;34m)\u001b[0m\u001b[0;34m\u001b[0m\u001b[0;34m\u001b[0m\u001b[0m\n\u001b[0m\u001b[1;32m   2716\u001b[0m         \u001b[0;32melse\u001b[0m\u001b[0;34m:\u001b[0m\u001b[0;34m\u001b[0m\u001b[0;34m\u001b[0m\u001b[0m\n\u001b[1;32m   2717\u001b[0m             \u001b[0;32mif\u001b[0m \u001b[0mpy_any\u001b[0m\u001b[0;34m(\u001b[0m\u001b[0mis_tensor\u001b[0m\u001b[0;34m(\u001b[0m\u001b[0mx\u001b[0m\u001b[0;34m)\u001b[0m \u001b[0;32mfor\u001b[0m \u001b[0mx\u001b[0m \u001b[0;32min\u001b[0m \u001b[0minputs\u001b[0m\u001b[0;34m)\u001b[0m\u001b[0;34m:\u001b[0m\u001b[0;34m\u001b[0m\u001b[0;34m\u001b[0m\u001b[0m\n",
      "\u001b[0;32m~/anaconda3/envs/bp_env/lib/python3.6/site-packages/keras/backend/tensorflow_backend.py\u001b[0m in \u001b[0;36m_call\u001b[0;34m(self, inputs)\u001b[0m\n\u001b[1;32m   2673\u001b[0m             \u001b[0mfetched\u001b[0m \u001b[0;34m=\u001b[0m \u001b[0mself\u001b[0m\u001b[0;34m.\u001b[0m\u001b[0m_callable_fn\u001b[0m\u001b[0;34m(\u001b[0m\u001b[0;34m*\u001b[0m\u001b[0marray_vals\u001b[0m\u001b[0;34m,\u001b[0m \u001b[0mrun_metadata\u001b[0m\u001b[0;34m=\u001b[0m\u001b[0mself\u001b[0m\u001b[0;34m.\u001b[0m\u001b[0mrun_metadata\u001b[0m\u001b[0;34m)\u001b[0m\u001b[0;34m\u001b[0m\u001b[0;34m\u001b[0m\u001b[0m\n\u001b[1;32m   2674\u001b[0m         \u001b[0;32melse\u001b[0m\u001b[0;34m:\u001b[0m\u001b[0;34m\u001b[0m\u001b[0;34m\u001b[0m\u001b[0m\n\u001b[0;32m-> 2675\u001b[0;31m             \u001b[0mfetched\u001b[0m \u001b[0;34m=\u001b[0m \u001b[0mself\u001b[0m\u001b[0;34m.\u001b[0m\u001b[0m_callable_fn\u001b[0m\u001b[0;34m(\u001b[0m\u001b[0;34m*\u001b[0m\u001b[0marray_vals\u001b[0m\u001b[0;34m)\u001b[0m\u001b[0;34m\u001b[0m\u001b[0;34m\u001b[0m\u001b[0m\n\u001b[0m\u001b[1;32m   2676\u001b[0m         \u001b[0;32mreturn\u001b[0m \u001b[0mfetched\u001b[0m\u001b[0;34m[\u001b[0m\u001b[0;34m:\u001b[0m\u001b[0mlen\u001b[0m\u001b[0;34m(\u001b[0m\u001b[0mself\u001b[0m\u001b[0;34m.\u001b[0m\u001b[0moutputs\u001b[0m\u001b[0;34m)\u001b[0m\u001b[0;34m]\u001b[0m\u001b[0;34m\u001b[0m\u001b[0;34m\u001b[0m\u001b[0m\n\u001b[1;32m   2677\u001b[0m \u001b[0;34m\u001b[0m\u001b[0m\n",
      "\u001b[0;32m~/anaconda3/envs/bp_env/lib/python3.6/site-packages/tensorflow/python/client/session.py\u001b[0m in \u001b[0;36m__call__\u001b[0;34m(self, *args)\u001b[0m\n\u001b[1;32m   1449\u001b[0m         \u001b[0;32mif\u001b[0m \u001b[0mself\u001b[0m\u001b[0;34m.\u001b[0m\u001b[0m_session\u001b[0m\u001b[0;34m.\u001b[0m\u001b[0m_created_with_new_api\u001b[0m\u001b[0;34m:\u001b[0m\u001b[0;34m\u001b[0m\u001b[0;34m\u001b[0m\u001b[0m\n\u001b[1;32m   1450\u001b[0m           return tf_session.TF_SessionRunCallable(\n\u001b[0;32m-> 1451\u001b[0;31m               self._session._session, self._handle, args, status, None)\n\u001b[0m\u001b[1;32m   1452\u001b[0m         \u001b[0;32melse\u001b[0m\u001b[0;34m:\u001b[0m\u001b[0;34m\u001b[0m\u001b[0;34m\u001b[0m\u001b[0m\n\u001b[1;32m   1453\u001b[0m           return tf_session.TF_DeprecatedSessionRunCallable(\n",
      "\u001b[0;31mKeyboardInterrupt\u001b[0m: "
     ]
    }
   ],
   "source": [
    "model.compile(\n",
    "    optimizer=\"Adam\",\n",
    "    loss=\"binary_crossentropy\",\n",
    "    metrics=['accuracy'])\n",
    "\n",
    "model.fit(\n",
    "    x=X_train,\n",
    "    y=y_train,\n",
    "    epochs=64,\n",
    "    batch_size=64,\n",
    "    validation_data= (X_test, y_test),\n",
    ")\n",
    "\n",
    "score = model.evaluate(x=X_test,y=y_test)\n",
    "\n",
    "print('Test loss:', score[0])\n",
    "print('Test accuracy:', score[1])"
   ]
  },
  {
   "cell_type": "code",
   "execution_count": 15,
   "metadata": {},
   "outputs": [
    {
     "name": "stdout",
     "output_type": "stream",
     "text": [
      "Model exported and finished\n"
     ]
    }
   ],
   "source": [
    "modelName = 'rcnn-3d-select2-bkgn_rep_1_90v.h5'\n",
    "model.save('models/{}'.format(modelName))\n",
    "\n",
    "print('Model exported and finished')"
   ]
  },
  {
   "cell_type": "code",
   "execution_count": null,
   "metadata": {
    "scrolled": false
   },
   "outputs": [],
   "source": [
    "import librosa\n",
    "#import keras\n",
    "import numpy as np\n",
    "import tensorflow as tf\n",
    "from pydub import AudioSegment\n",
    "#from pydub.silence import split_on_silence\n",
    "#import pandas as pd\n",
    "import os\n",
    "from sklearn.preprocessing import StandardScaler\n",
    "from keras.models import load_model\n",
    "#import matplotlib.pyplot as plt\n",
    "#%matplotlib inline\n",
    "#plt.style.use('ggplot')\n",
    "np.set_printoptions(threshold=np.nan)\n",
    "\n",
    "sound_file = AudioSegment.from_wav(\"/home/mansi/anaconda3/beproject/stutter_det/read1s2dmf/M_0048_11y1m_2/M_0048_11y1m_2.wav\")\n",
    "\n",
    "audio_chunks = sound_file[::1000]\n",
    "\n",
    "mfcc_array = []\n",
    "print(\"ff\")\n",
    "print(mfcc_array)\n",
    "for i, chunk in enumerate(audio_chunks):\n",
    "    chunkfile = \"chunks_test/chunk{0}.wav\".format(i)\n",
    "    chunk.export(chunkfile, format=\"wav\")\n",
    "    y, sr = librosa.load(chunkfile)\n",
    "    mfcc = np.array(librosa.feature.mfcc(y=y, sr=sr, n_mfcc=13))\n",
    "    #print(mfcc.shape)\n",
    "    #mfcc_array.append(librosa.feature.mfcc(y=y, sr=sr, n_mfcc=39))\n",
    "    if mfcc.shape[0]==13 and mfcc.shape[1]==44:\n",
    "        a = []\n",
    "        a.append(mfcc[0])\n",
    "        a.append(mfcc[12])\n",
    "        mfcc_array.append(a)\n",
    "    #mfcc_array.append(np.pad(mfcc, (0,-mfcc.shape[0]), 'constant', constant_values=(0)))\n",
    "    \n",
    "mfcc_array = np.array(mfcc_array)\n",
    "\n",
    "print(mfcc_array.shape)\n",
    "\n",
    "#mfcc_array = tf.keras.utils.normalize(mfcc_array, order=2)\n",
    "#mfcc_array = StandardScaler().fit_transform(mfcc_array)\n",
    "\n",
    "z = mfcc_array.reshape(mfcc_array.shape[0], 2, 44, 1)\n",
    "\n",
    "s=0\n",
    "i=0\n",
    "t=0\n",
    "\n",
    "for f in z:\n",
    "    #pc = model.predict_classes(f.reshape(1,39,44,1), batch_size=1)\n",
    "    pp = model.predict(f.reshape(1,2,44,1), batch_size=1)\n",
    "    pp = np.around(pp,decimals=2)\n",
    "    #print(\"chunk\",str(i),\"-->\",pc,\"-->\",pp)\n",
    "    if pp[0][0] == 1.0:\n",
    "        s+=1\n",
    "    t+=pp[0][0]\n",
    "    i+=1\n",
    "    print(\"chunk\",str(i),\"-->\",pp)\n",
    "\n",
    "print(s/len(z)*100)\n",
    "print(s)\n",
    "print(len(z))\n",
    "print(t/len(z)*100)\n"
   ]
  },
  {
   "cell_type": "code",
   "execution_count": 169,
   "metadata": {},
   "outputs": [
    {
     "name": "stdout",
     "output_type": "stream",
     "text": [
      "_________________________________________________________________\n",
      "Layer (type)                 Output Shape              Param #   \n",
      "=================================================================\n",
      "conv2d_3 (Conv2D)            (None, 3, 20, 32)         192       \n",
      "_________________________________________________________________\n",
      "activation_4 (Activation)    (None, 3, 20, 32)         0         \n",
      "_________________________________________________________________\n",
      "conv2d_4 (Conv2D)            (None, 3, 8, 32)          5152      \n",
      "_________________________________________________________________\n",
      "activation_5 (Activation)    (None, 3, 8, 32)          0         \n",
      "_________________________________________________________________\n",
      "reshape_2 (Reshape)          (None, 24, 32)            0         \n",
      "_________________________________________________________________\n",
      "gru1 (GRU)                   (None, 24, 32)            6240      \n",
      "_________________________________________________________________\n",
      "gru2 (GRU)                   (None, 32)                6240      \n",
      "_________________________________________________________________\n",
      "dropout_2 (Dropout)          (None, 32)                0         \n",
      "_________________________________________________________________\n",
      "dense_2 (Dense)              (None, 1)                 33        \n",
      "_________________________________________________________________\n",
      "activation_6 (Activation)    (None, 1)                 0         \n",
      "=================================================================\n",
      "Total params: 17,857\n",
      "Trainable params: 17,857\n",
      "Non-trainable params: 0\n",
      "_________________________________________________________________\n"
     ]
    }
   ],
   "source": [
    "from keras.models import load_model\n",
    "model1 = load_model('/home/mansi/anaconda3/beproject/stutter_det/models/rcnn-3d-select2-bkgn_rep_1_90v.h5')\n",
    "model1.summary()"
   ]
  },
  {
   "cell_type": "code",
   "execution_count": 171,
   "metadata": {
    "scrolled": false
   },
   "outputs": [
    {
     "name": "stdout",
     "output_type": "stream",
     "text": [
      "M_1206_12y3m_1\n",
      "74.8418605033\n",
      "64.65116279069767\n",
      "M_1202_10y7m_1\n",
      "66.1626017085\n",
      "55.28455284552846\n",
      "M_1023_11y6m_1\n",
      "31.9508197626\n",
      "16.39344262295082\n",
      "M_1022_10y9m_2\n",
      "41.4609375934\n",
      "25.0\n",
      "M_1213_11y3m_1\n",
      "50.4836958317\n",
      "32.065217391304344\n",
      "M_0253_14y6m_1\n",
      "39.9230771313\n",
      "24.519230769230766\n",
      "M_0104_15y4m_1\n",
      "21.9636364067\n",
      "13.939393939393941\n",
      "M_1022_10y10m_1\n",
      "57.6370968739\n",
      "48.38709677419355\n",
      "M_0880_15y2m_1\n",
      "45.5197369802\n",
      "27.631578947368425\n",
      "M_0760_12y3m_1\n",
      "37.2881355869\n",
      "25.423728813559322\n",
      "M_1215_11y0m_1\n",
      "45.7068063699\n",
      "29.84293193717277\n",
      "M_1214_11y8m_1\n",
      "52.9937889334\n",
      "36.64596273291926\n",
      "M_1207_13y5m_1\n",
      "65.5380435794\n",
      "52.17391304347826\n",
      "M_0760_15y3m_1\n",
      "22.6962810232\n",
      "11.363636363636363\n",
      "M_0760_12y3m_1\n",
      "37.2881355869\n",
      "25.423728813559322\n",
      "M_1023_10y10m_1\n",
      "55.2651516331\n",
      "40.909090909090914\n",
      "M_0545_15y3m_1\n",
      "60.4090909643\n",
      "44.15584415584416\n",
      "M_0541_12y3m_1\n",
      "15.7462686731\n",
      "9.701492537313433\n",
      "M_0104_18y1m_1\n",
      "16.7763157895\n",
      "9.210526315789473\n",
      "M_1216_11y1m_1\n",
      "64.177966301\n",
      "55.932203389830505\n",
      "M_1205_13y1m_1\n",
      "50.3467743135\n",
      "37.903225806451616\n",
      "M_1040_12y6m_1\n",
      "15.7096774588\n",
      "8.064516129032258\n",
      "M_0880_14y6m_2\n",
      "58.9622643442\n",
      "45.28301886792453\n"
     ]
    }
   ],
   "source": [
    "import librosa\n",
    "#import keras\n",
    "import numpy as np\n",
    "import tensorflow as tf\n",
    "from pydub import AudioSegment\n",
    "#from pydub.silence import split_on_silence\n",
    "#import pandas as pd\n",
    "import os\n",
    "from sklearn.preprocessing import StandardScaler\n",
    "np.set_printoptions(threshold=np.nan)\n",
    "\n",
    "arr = ['M_0760_15y3m_1',\n",
    "       'M_1202_10y7m_1',\n",
    "       'M_1215_11y0m_1',\n",
    "       'M_1202_10y11m_1',\n",
    "       'M_1202_10y7m_1',\n",
    "       'M_0760_12y3m_1',\n",
    "       'M_0077_11y2m_1',\n",
    "       'M_0061_18y5m_2',\n",
    "       'M_0061_18y5m_1',\n",
    "       'F_1211_11y3m_1',\n",
    "       'F_0101_14y8m_1',\n",
    "       'M_1202_10y11m_1',\n",
    "       'M_1216_11y1m_1',\n",
    "       'M_0048_11y1m_2',\n",
    "       'M_0048_11y5m_1',\n",
    "       'M_0048_11y6m_1',\n",
    "       'M_0053_10y8m_1',\n",
    "       'M_0064_11y11m_1',\n",
    "       'M_0064_11y5m_1'\n",
    "      ]\n",
    "arr2 = [\"M_1206_12y3m_1\",\n",
    "\"M_1202_10y7m_1\",\n",
    "\"M_1023_11y6m_1\",\n",
    "\"M_1022_10y9m_2\",\n",
    "\"M_1213_11y3m_1\",\n",
    "\"M_0253_14y6m_1\",\n",
    "\"M_0104_15y4m_1\",\n",
    "\"M_1022_10y10m_1\",\n",
    "\"M_0880_15y2m_1\",\n",
    "\"M_0760_12y3m_1\",\n",
    "\"M_1215_11y0m_1\",\n",
    "\"M_1214_11y8m_1\",\n",
    "\"M_1207_13y5m_1\",\n",
    "\"M_0760_15y3m_1\",\n",
    "\"M_0760_12y3m_1\",\n",
    "\"M_1023_10y10m_1\",\n",
    "\"M_0545_15y3m_1\",\n",
    "\"M_0541_12y3m_1\",\n",
    "\"M_0104_18y1m_1\",\n",
    "\"M_1216_11y1m_1\",\n",
    "\"M_1205_13y1m_1\",\n",
    "\"M_1040_12y6m_1\",\n",
    "\"M_0880_14y6m_2\"]\n",
    "\n",
    "files = os.listdir(\"recordings\")\n",
    "\n",
    "for audio in arr2 :\n",
    "    #if audio.endswith('.wav'):\n",
    "    print(audio)\n",
    "    #sound_file = AudioSegment.from_wav(\"/home/mansi/anaconda3/beproject/stutter_det/recordings/\"+audio)\n",
    "    sound_file = AudioSegment.from_wav(\"/home/mansi/anaconda3/beproject/stutter_det/test_rep/\"+audio+'.wav')\n",
    "    audio_chunks = sound_file[::1000]\n",
    "\n",
    "    mfcc_array = []\n",
    "\n",
    "    for i, chunk in enumerate(audio_chunks):\n",
    "        chunkfile = \"chunks_test/chunk{0}.wav\".format(i)\n",
    "        chunk.export(chunkfile, format=\"wav\")\n",
    "        y, sr = librosa.load(chunkfile)\n",
    "        z = np.array(librosa.feature.mfcc(y=y, sr=sr, n_mfcc=13))\n",
    "        a = []\n",
    "        a.append(np.pad(z[0][1:], (0,44-z[0][1:].shape[0]), 'constant', constant_values=(0)))\n",
    "        a.append(np.pad(z[2][1:], (0,44-z[0][1:].shape[0]), 'constant', constant_values=(0)))\n",
    "        a.append(np.pad(z[5][1:], (0,44-z[0][1:].shape[0]), 'constant', constant_values=(0)))\n",
    "        mfcc_array.append(a)\n",
    "\n",
    "    mfcc_array = np.array(mfcc_array)\n",
    "    z = mfcc_array.reshape(mfcc_array.shape[0], 3, 44, 1)\n",
    "    s=0\n",
    "    i=0\n",
    "    t=0\n",
    "    for f in z:\n",
    "        pp = model1.predict(f.reshape(1,3,44,1), batch_size=1)\n",
    "        pp = np.around(pp,decimals=2)\n",
    "        if pp[0][0] > 0.98:\n",
    "            s+=1\n",
    "        t+=pp[0][0]\n",
    "        #print(\"chunk\",str(i),\"-->\",pp)\n",
    "        i+=1\n",
    "    print(t/len(z)*100)\n",
    "    print(s/len(z)*100)"
   ]
  },
  {
   "cell_type": "code",
   "execution_count": null,
   "metadata": {},
   "outputs": [],
   "source": []
  },
  {
   "cell_type": "code",
   "execution_count": null,
   "metadata": {},
   "outputs": [],
   "source": []
  }
 ],
 "metadata": {
  "kernelspec": {
   "display_name": "Python 3",
   "language": "python",
   "name": "python3"
  },
  "language_info": {
   "codemirror_mode": {
    "name": "ipython",
    "version": 3
   },
   "file_extension": ".py",
   "mimetype": "text/x-python",
   "name": "python",
   "nbconvert_exporter": "python",
   "pygments_lexer": "ipython3",
   "version": "3.6.5"
  }
 },
 "nbformat": 4,
 "nbformat_minor": 2
}
